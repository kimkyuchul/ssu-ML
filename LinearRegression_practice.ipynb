{
  "nbformat": 4,
  "nbformat_minor": 0,
  "metadata": {
    "colab": {
      "name": "LinearRegression_practice.ipynb",
      "provenance": []
    },
    "kernelspec": {
      "name": "python3",
      "display_name": "Python 3"
    },
    "language_info": {
      "name": "python"
    }
  },
  "cells": [
    {
      "cell_type": "code",
      "execution_count": 28,
      "metadata": {
        "id": "eKedpZUz7x_u"
      },
      "outputs": [],
      "source": [
        "import numpy as np\n",
        "import matplotlib.pyplot as plt\n",
        "import pandas as pd\n",
        "from sklearn.metrics import mean_squared_error as mse\n",
        "from sklearn import linear_model\n",
        "\n",
        "car = pd.DataFrame({'horsepower':[130,250,190,300,210,220,170],\n",
        "                         'gas mileage':[16.3,10.2,11.1,7.1,12.1,13.2,14.2]},\n",
        "                        index = ['A','B','C','D','E','F','G'])"
      ]
    },
    {
      "cell_type": "code",
      "source": [
        "x = car['horsepower'].to_numpy()\n",
        "y = car['gas mileage'].to_numpy()\n",
        "\n",
        "x = x[:, np.newaxis]\n",
        "x"
      ],
      "metadata": {
        "colab": {
          "base_uri": "https://localhost:8080/"
        },
        "id": "-tb2rsrUEUZ3",
        "outputId": "a8011b6f-24e0-4625-f06d-4a4033a7dfc0"
      },
      "execution_count": 29,
      "outputs": [
        {
          "output_type": "execute_result",
          "data": {
            "text/plain": [
              "array([[130],\n",
              "       [250],\n",
              "       [190],\n",
              "       [300],\n",
              "       [210],\n",
              "       [220],\n",
              "       [170]])"
            ]
          },
          "metadata": {},
          "execution_count": 29
        }
      ]
    },
    {
      "cell_type": "code",
      "source": [
        "regr = linear_model.LinearRegression()\n",
        "regr.fit(x,y)"
      ],
      "metadata": {
        "colab": {
          "base_uri": "https://localhost:8080/"
        },
        "id": "2CqM1DYpGuvB",
        "outputId": "2a984790-980b-4c6a-e138-0c386b15768f"
      },
      "execution_count": 30,
      "outputs": [
        {
          "output_type": "execute_result",
          "data": {
            "text/plain": [
              "LinearRegression()"
            ]
          },
          "metadata": {},
          "execution_count": 30
        }
      ]
    },
    {
      "cell_type": "code",
      "source": [
        "import matplotlib.pyplot as plt\n",
        "car.plot(kind = 'scatter', x = 'horsepower', y ='gas mileage')\n",
        "y_pred = regr.predict([[0],[300]])\n",
        "plt.plot([0,300],y_pred)"
      ],
      "metadata": {
        "colab": {
          "base_uri": "https://localhost:8080/",
          "height": 297
        },
        "id": "oRcY9GgbPig4",
        "outputId": "2237197f-f82c-413d-e12a-a0c8a759579b"
      },
      "execution_count": 31,
      "outputs": [
        {
          "output_type": "execute_result",
          "data": {
            "text/plain": [
              "[<matplotlib.lines.Line2D at 0x7f851bc0f650>]"
            ]
          },
          "metadata": {},
          "execution_count": 31
        },
        {
          "output_type": "display_data",
          "data": {
            "text/plain": [
              "<Figure size 432x288 with 1 Axes>"
            ],
            "image/png": "[encoded data removed]"
          },
          "metadata": {
            "needs_background": "light"
          }
        }
      ]
    },
    {
      "cell_type": "code",
      "source": [
        "X = regr.coef_\n",
        "Y = regr.intercept_"
      ],
      "metadata": {
        "id": "R25zYz-URQm3"
      },
      "execution_count": 32,
      "outputs": []
    }
  ]
}