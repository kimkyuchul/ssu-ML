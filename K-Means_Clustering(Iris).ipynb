{
  "nbformat": 4,
  "nbformat_minor": 0,
  "metadata": {
    "colab": {
      "name": "EX4_20201681_김규철.ipynb.ipynb",
      "provenance": []
    },
    "kernelspec": {
      "name": "python3",
      "display_name": "Python 3"
    },
    "language_info": {
      "name": "python"
    }
  },
  "cells": [
    {
      "cell_type": "code",
      "execution_count": 1,
      "metadata": {
        "colab": {
          "base_uri": "https://localhost:8080/"
        },
        "id": "xZlURnkh5IU2",
        "outputId": "7a77980b-019d-4343-c4c0-2da8fbede80c"
      },
      "outputs": [
        {
          "output_type": "stream",
          "name": "stdout",
          "text": [
            "KMeans()군집화 적용...\n",
            "군집화 결과 labels : [1 1 1 1 1 1 1 1 1 1 1 1 1 1 1 1 1 1 1 1 1 1 1 1 1 1 1 1 1 1 1 1 1 1 1 1 1\n",
            " 1 1 1 1 1 1 1 1 1 1 1 1 1 2 2 0 2 2 2 2 2 2 2 2 2 2 2 2 2 2 2 2 2 2 2 2 2\n",
            " 2 2 2 0 2 2 2 2 2 2 2 2 2 2 2 2 2 2 2 2 2 2 2 2 2 2 0 2 0 0 0 0 2 0 0 0 0\n",
            " 0 0 2 2 0 0 0 0 2 0 2 0 2 0 0 2 2 0 0 0 0 0 2 0 0 0 0 2 0 0 0 2 0 0 0 2 0\n",
            " 0 2]\n"
          ]
        }
      ],
      "source": [
        "from sklearn import cluster\n",
        "from sklearn.datasets import load_iris\n",
        "import numpy as np\n",
        "\n",
        "iris = load_iris()\n",
        "k = len(iris.target_names)\n",
        "\n",
        "print('KMeans()군집화 적용...')\n",
        "model = cluster.KMeans(n_clusters=k)\n",
        "model.fit(iris.data)\n",
        "labels = model.predict(iris.data)\n",
        "print('군집화 결과 labels :', labels)\n",
        "a_counts = np.bincount(labels[:50])\n",
        "b_counts = np.bincount(labels[50:100])\n",
        "c_counts = np.bincount(labels[100:])"
      ]
    },
    {
      "cell_type": "code",
      "source": [
        "d = { 0: np.argmax(a_counts), 1: np.argmax(b_counts), 2 : np.argmax(c_counts)}\n",
        "new_labels = np.copy(labels)\n",
        "for old, new in d.items():\n",
        "  new_labels[labels == old] = new\n",
        "\n",
        "print('다시 레이블링을 한 후의 new_labels =', new_labels)\n"
      ],
      "metadata": {
        "colab": {
          "base_uri": "https://localhost:8080/"
        },
        "id": "tH2lETnJ5WmO",
        "outputId": "3a7d4144-bbe2-4cea-ab7d-22d4e842f7f9"
      },
      "execution_count": 2,
      "outputs": [
        {
          "output_type": "stream",
          "name": "stdout",
          "text": [
            "다시 레이블링을 한 후의 new_labels = [2 2 2 2 2 2 2 2 2 2 2 2 2 2 2 2 2 2 2 2 2 2 2 2 2 2 2 2 2 2 2 2 2 2 2 2 2\n",
            " 2 2 2 2 2 2 2 2 2 2 2 2 2 0 0 1 0 0 0 0 0 0 0 0 0 0 0 0 0 0 0 0 0 0 0 0 0\n",
            " 0 0 0 1 0 0 0 0 0 0 0 0 0 0 0 0 0 0 0 0 0 0 0 0 0 0 1 0 1 1 1 1 0 1 1 1 1\n",
            " 1 1 0 0 1 1 1 1 0 1 0 1 0 1 1 0 0 1 1 1 1 1 0 1 1 1 1 0 1 1 1 0 1 1 1 0 1\n",
            " 1 0]\n"
          ]
        }
      ]
    },
    {
      "cell_type": "code",
      "source": [
        "from sklearn.metrics import accuracy_score\n",
        "print('iris 데이터의 군집화 정확도:', accuracy_score(iris.target, new_labels))"
      ],
      "metadata": {
        "id": "aALkywTJ5Z0a",
        "outputId": "62cf9e1a-da6f-442e-8cc3-6adb3de6791d",
        "colab": {
          "base_uri": "https://localhost:8080/"
        }
      },
      "execution_count": 3,
      "outputs": [
        {
          "output_type": "stream",
          "name": "stdout",
          "text": [
            "iris 데이터의 군집화 정확도: 0.013333333333333334\n"
          ]
        }
      ]
    }
  ]
}