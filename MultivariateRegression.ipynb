{
  "nbformat": 4,
  "nbformat_minor": 0,
  "metadata": {
    "colab": {
      "name": " MultivariateRegression.ipynb",
      "provenance": [],
      "collapsed_sections": []
    },
    "kernelspec": {
      "name": "python3",
      "display_name": "Python 3"
    },
    "language_info": {
      "name": "python"
    }
  },
  "cells": [
    {
      "cell_type": "code",
      "execution_count": null,
      "metadata": {
        "id": "_zBms6jRTIlb"
      },
      "outputs": [],
      "source": [
        "# 선형회귀에서는 독립변수를 하나만 썼다. 입력에 사용되는 특징이 하나가 아니라 n개라면 이것을 다변량(multivariate) 회귀분석이라고 한다."
      ]
    },
    {
      "cell_type": "code",
      "source": [
        "# 정규방정식\n",
        "import matplotlib.pyplot as plt\n",
        "import numpy as np \n",
        "import pandas as pd\n",
        "data_home = 'https://github.com/dknife/ML/raw/main/data/'\n",
        "lin_data = pd.read_csv(data_home+'pollution.csv')\n",
        "\n",
        "x = lin_data['input'].to_numpy()\n",
        "y = lin_data['pollution'].to_numpy()\n",
        "x = x[:, np.newaxis]\n",
        "X = np.c_[np.ones((100, 1)), x] #넘파이의 c_()를 이용하여 100개의 행을 가지고 각 행마다 1을 원소로 하는 벡터를 생성해 입력 데이터에 병합          \n",
        "print(X)"
      ],
      "metadata": {
        "colab": {
          "base_uri": "https://localhost:8080/"
        },
        "id": "JPVQc1EsTy_r",
        "outputId": "3fd1f42e-e3f8-4e00-9d87-5ee70ae614ee"
      },
      "execution_count": 3,
      "outputs": [
        {
          "output_type": "stream",
          "name": "stdout",
          "text": [
            "[[1.00000000e+00 2.40557071e-01]\n",
            " [1.00000000e+00 1.59730598e-01]\n",
            " [1.00000000e+00 1.08294551e-01]\n",
            " [1.00000000e+00 2.33770334e-01]\n",
            " [1.00000000e+00 2.83235375e-01]\n",
            " [1.00000000e+00 1.28085826e-01]\n",
            " [1.00000000e+00 3.45490753e-01]\n",
            " [1.00000000e+00 3.32713292e-01]\n",
            " [1.00000000e+00 9.00142565e-02]\n",
            " [1.00000000e+00 1.16204832e-01]\n",
            " [1.00000000e+00 2.06013589e-01]\n",
            " [1.00000000e+00 1.50001317e-01]\n",
            " [1.00000000e+00 3.92947744e-01]\n",
            " [1.00000000e+00 4.20919103e-01]\n",
            " [1.00000000e+00 3.30715790e-01]\n",
            " [1.00000000e+00 4.81756183e-01]\n",
            " [1.00000000e+00 2.68580809e-01]\n",
            " [1.00000000e+00 2.32808098e-01]\n",
            " [1.00000000e+00 4.57049987e-01]\n",
            " [1.00000000e+00 2.45697851e-01]\n",
            " [1.00000000e+00 3.82367589e-01]\n",
            " [1.00000000e+00 2.98567613e-01]\n",
            " [1.00000000e+00 2.99447048e-01]\n",
            " [1.00000000e+00 4.48411946e-01]\n",
            " [1.00000000e+00 9.89658723e-02]\n",
            " [1.00000000e+00 4.79384512e-02]\n",
            " [1.00000000e+00 1.59202264e-01]\n",
            " [1.00000000e+00 4.17919473e-01]\n",
            " [1.00000000e+00 1.60829312e-01]\n",
            " [1.00000000e+00 2.48513337e-01]\n",
            " [1.00000000e+00 4.75146988e-01]\n",
            " [1.00000000e+00 2.97081778e-01]\n",
            " [1.00000000e+00 1.65365697e-01]\n",
            " [1.00000000e+00 1.05298268e-01]\n",
            " [1.00000000e+00 9.32346029e-02]\n",
            " [1.00000000e+00 1.50237069e-01]\n",
            " [1.00000000e+00 4.82711446e-01]\n",
            " [1.00000000e+00 2.83643962e-01]\n",
            " [1.00000000e+00 7.02028143e-02]\n",
            " [1.00000000e+00 1.77683177e-01]\n",
            " [1.00000000e+00 4.66045173e-01]\n",
            " [1.00000000e+00 4.58608568e-01]\n",
            " [1.00000000e+00 2.79059580e-01]\n",
            " [1.00000000e+00 1.67779485e-01]\n",
            " [1.00000000e+00 3.23529368e-01]\n",
            " [1.00000000e+00 4.32988700e-01]\n",
            " [1.00000000e+00 3.28252475e-01]\n",
            " [1.00000000e+00 3.89414692e-02]\n",
            " [1.00000000e+00 3.37193184e-01]\n",
            " [1.00000000e+00 3.60481172e-01]\n",
            " [1.00000000e+00 8.23693501e-02]\n",
            " [1.00000000e+00 3.62325471e-01]\n",
            " [1.00000000e+00 3.36087762e-01]\n",
            " [1.00000000e+00 1.38522764e-01]\n",
            " [1.00000000e+00 4.13305022e-01]\n",
            " [1.00000000e+00 1.49506482e-01]\n",
            " [1.00000000e+00 2.47606158e-01]\n",
            " [1.00000000e+00 1.07154553e-01]\n",
            " [1.00000000e+00 1.53907055e-03]\n",
            " [1.00000000e+00 4.53244421e-01]\n",
            " [1.00000000e+00 1.67257053e-01]\n",
            " [1.00000000e+00 1.60887187e-01]\n",
            " [1.00000000e+00 6.63762195e-04]\n",
            " [1.00000000e+00 4.83237033e-01]\n",
            " [1.00000000e+00 9.02836021e-02]\n",
            " [1.00000000e+00 3.77571402e-01]\n",
            " [1.00000000e+00 3.50183695e-01]\n",
            " [1.00000000e+00 3.39279984e-01]\n",
            " [1.00000000e+00 4.51794269e-01]\n",
            " [1.00000000e+00 1.78904062e-01]\n",
            " [1.00000000e+00 1.68291868e-01]\n",
            " [1.00000000e+00 2.48773899e-01]\n",
            " [1.00000000e+00 4.00345354e-01]\n",
            " [1.00000000e+00 3.12168449e-01]\n",
            " [1.00000000e+00 4.26516271e-01]\n",
            " [1.00000000e+00 4.31602331e-01]\n",
            " [1.00000000e+00 4.84902608e-01]\n",
            " [1.00000000e+00 2.95112626e-01]\n",
            " [1.00000000e+00 4.50276298e-01]\n",
            " [1.00000000e+00 1.90594379e-01]\n",
            " [1.00000000e+00 1.28712878e-01]\n",
            " [1.00000000e+00 9.80604026e-02]\n",
            " [1.00000000e+00 1.79659960e-01]\n",
            " [1.00000000e+00 8.07661096e-02]\n",
            " [1.00000000e+00 6.50490965e-02]\n",
            " [1.00000000e+00 3.01826443e-01]\n",
            " [1.00000000e+00 1.42304483e-01]\n",
            " [1.00000000e+00 4.48889083e-02]\n",
            " [1.00000000e+00 8.81546646e-02]\n",
            " [1.00000000e+00 3.40488037e-01]\n",
            " [1.00000000e+00 3.43004129e-01]\n",
            " [1.00000000e+00 3.87055132e-01]\n",
            " [1.00000000e+00 3.88814921e-01]\n",
            " [1.00000000e+00 4.13788763e-01]\n",
            " [1.00000000e+00 2.78696675e-01]\n",
            " [1.00000000e+00 7.08240367e-02]\n",
            " [1.00000000e+00 5.52997175e-02]\n",
            " [1.00000000e+00 1.38228812e-01]\n",
            " [1.00000000e+00 7.20485998e-03]\n",
            " [1.00000000e+00 2.90293677e-01]]\n"
          ]
        }
      ]
    },
    {
      "cell_type": "code",
      "source": [
        "# 정규 방정식을 푸는 것은 넘파이의 선형 대수 서브 모듈인 linalg를 이용\n",
        "theta = np.linalg.inv(X.T.dot(X)).dot(X.T).dot(y)\n",
        "theta"
      ],
      "metadata": {
        "colab": {
          "base_uri": "https://localhost:8080/"
        },
        "id": "J52gV2LRbNiR",
        "outputId": "5f0db4b7-3cb8-4c38-d90c-1053b8dbe0d8"
      },
      "execution_count": 4,
      "outputs": [
        {
          "output_type": "execute_result",
          "data": {
            "text/plain": [
              "array([ 5.17550358, -4.54449866])"
            ]
          },
          "metadata": {},
          "execution_count": 4
        }
      ]
    },
    {
      "cell_type": "code",
      "source": [
        "def h(x, theta):        # 가설 함수\n",
        "   return x*theta[1] + theta[0]\n",
        "\n",
        "\n",
        "# 데이터와 가설을 비교\n",
        "lin_data.plot(kind = 'scatter', x = 'input', y = 'pollution')  # 데이터\n",
        "plt.plot([0, 1], [h(0, theta), h(1, theta)])                   # 가설"
      ],
      "metadata": {
        "colab": {
          "base_uri": "https://localhost:8080/",
          "height": 297
        },
        "id": "mB6i_pZcba_j",
        "outputId": "f22e44e9-9f1f-4eb7-88f4-8e5ccc6bae09"
      },
      "execution_count": 5,
      "outputs": [
        {
          "output_type": "execute_result",
          "data": {
            "text/plain": [
              "[<matplotlib.lines.Line2D at 0x7fb8b2176c10>]"
            ]
          },
          "metadata": {},
          "execution_count": 5
        },
        {
          "output_type": "display_data",
          "data": {
            "text/plain": [
              "<Figure size 432x288 with 1 Axes>"
            ],
            "image/png": "[encoded data removed]"
          },
          "metadata": {
            "needs_background": "light"
          }
        }
      ]
    }
  ]
}